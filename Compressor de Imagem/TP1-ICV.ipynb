{
 "cells": [
  {
   "cell_type": "markdown",
   "metadata": {},
   "source": [
    "### Introdução a Computação Visual - Trabalho Prático 1 - Compressão de Imagens\n",
    "Felipe Louzada Mingote - 2015033216\n",
    "\n",
    "Thiago Morais Araújo - 2015083728\n"
   ]
  },
  {
   "cell_type": "markdown",
   "metadata": {},
   "source": [
    "Existem diversos algoritmos de compressão de imagens com e sem perdas. Neste trabalho optamos por implementar um algoritmo de compressão sem perdas chamado LZW."
   ]
  },
  {
   "cell_type": "markdown",
   "metadata": {},
   "source": [
    "O algoritmo LZW pode ser usado para comprimir arquivos binários, arquivos de texto e imagens. Baseia-se na compressão por dicionário, realizando um mapeamento de 1:1, portanto sem perdas. É amplamente utilizado para compressão de binários e texto, por sua implementação simples e completa."
   ]
  },
  {
   "cell_type": "markdown",
   "metadata": {},
   "source": [
    "### Inicialização"
   ]
  },
  {
   "cell_type": "code",
   "execution_count": 20,
   "metadata": {},
   "outputs": [],
   "source": [
    "from PIL import Image\n",
    "import os\n",
    "import numpy as np"
   ]
  },
  {
   "cell_type": "markdown",
   "metadata": {},
   "source": [
    "### Funções Auxiliares"
   ]
  },
  {
   "cell_type": "markdown",
   "metadata": {},
   "source": [
    "Criação do dicionário de inicialização da compressão e descompressão"
   ]
  },
  {
   "cell_type": "code",
   "execution_count": 21,
   "metadata": {},
   "outputs": [],
   "source": [
    "def createCompressionDict():\n",
    "    dictionary = {}\n",
    "    for i in range(10):\n",
    "        dictionary[str(i)] = i\n",
    "    dictionary[','] = 10\n",
    "    return dictionary,11\n",
    "\n",
    "def createDecompressionDict():\n",
    "    dictionary = {}\n",
    "    for i in range(10):\n",
    "        dictionary[i] = str(i)\n",
    "    dictionary[10] = ','\n",
    "    return dictionary,11"
   ]
  },
  {
   "cell_type": "markdown",
   "metadata": {},
   "source": [
    "Criação da imagem por faixa de espectro RGB"
   ]
  },
  {
   "cell_type": "code",
   "execution_count": 22,
   "metadata": {},
   "outputs": [],
   "source": [
    "def makeImageData(r,g,b):\n",
    "    imagelist = []\n",
    "    for i in range(len(r)):\n",
    "        for j in range(len(r[0])):\n",
    "            imagelist.append((r[i][j],g[i][j],b[i][j]))\n",
    "    return imagelist,(len(r),len(r[0]))"
   ]
  },
  {
   "cell_type": "markdown",
   "metadata": {},
   "source": [
    "Salvamento do arquivo da imagem descomprimida"
   ]
  },
  {
   "cell_type": "code",
   "execution_count": 23,
   "metadata": {},
   "outputs": [],
   "source": [
    "def saveImage(path,image):\n",
    "    print(\"Saving Decompressed File...\")\n",
    "    filesplit = str(os.path.basename(path)).split('Compressed.lzw')\n",
    "    filename = filesplit[0] + \"Decompressed.tif\"\n",
    "    imagelist,imagesize = makeImageData(r=image[0],g=image[1],b=image[2])\n",
    "    imagenew = Image.new('RGB',imagesize)\n",
    "    imagenew.putdata(imagelist)\n",
    "    imagenew.save(filename)"
   ]
  },
  {
   "cell_type": "markdown",
   "metadata": {},
   "source": [
    "Processamento da imagem e preenchimento do dicionário"
   ]
  },
  {
   "cell_type": "code",
   "execution_count": 24,
   "metadata": {},
   "outputs": [],
   "source": [
    "def processImage(image, height, width):\n",
    "    image = image.convert('RGB')\n",
    "    red, green, blue = [], [], []\n",
    "    pixel_values = list(image.getdata())\n",
    "    iterator = 0\n",
    "    for height_index in range(height):\n",
    "        R, G, B = \"\",\"\",\"\"\n",
    "        for width_index in range(width):\n",
    "            RGB = pixel_values[iterator]\n",
    "            R = R + str(RGB[0]) + \",\"\n",
    "            G = G + str(RGB[1]) + \",\"\n",
    "            B = B + str(RGB[2]) + \",\"\n",
    "            iterator+=1\n",
    "        red.append(R[:-1])\n",
    "        green.append(G[:-1])\n",
    "        blue.append(B[:-1])\n",
    "    return red,green,blue"
   ]
  },
  {
   "cell_type": "markdown",
   "metadata": {},
   "source": [
    "Compressão do espectro de cor"
   ]
  },
  {
   "cell_type": "code",
   "execution_count": 25,
   "metadata": {},
   "outputs": [],
   "source": [
    "def compressColor(colorList, compressionDictionary, compressionIndex):\n",
    "    compressedColor = []\n",
    "    i = 0\n",
    "    for currentRow in colorList:\n",
    "        currentString = currentRow[0]\n",
    "        compressedRow = \"\"\n",
    "        i+=1\n",
    "        for charIndex in range(1, len(currentRow)):\n",
    "            currentChar = currentRow[charIndex]\n",
    "            if currentString+currentChar in compressionDictionary:\n",
    "                currentString = currentString+currentChar\n",
    "            else:\n",
    "                compressedRow = compressedRow + str(compressionDictionary[currentString]) + \",\"\n",
    "                compressionDictionary[currentString+currentChar] = compressionIndex\n",
    "                compressionIndex += 1\n",
    "                currentString = currentChar\n",
    "            currentChar = \"\"\n",
    "        compressedRow = compressedRow + str(compressionDictionary[currentString])\n",
    "        compressedColor.append(compressedRow)\n",
    "    return compressedColor, compressionIndex"
   ]
  },
  {
   "cell_type": "markdown",
   "metadata": {},
   "source": [
    "Função principal de compressão da imagem e salvamento do arquivo comprimido"
   ]
  },
  {
   "cell_type": "code",
   "execution_count": 32,
   "metadata": {},
   "outputs": [],
   "source": [
    "def compress(path):\n",
    "    image = Image.open(path)\n",
    "    height, width = image.size\n",
    "    red, green, blue = processImage(image, height, width)\n",
    "    compressedcColors = []\n",
    "    compressionDictionary, compressionIndex = createCompressionDict()\n",
    "    print(\"Compressing Image ...\")\n",
    "    red_list, compressionIndex = compressColor(red, compressionDictionary, compressionIndex)\n",
    "    compressedcColors.append(red_list)\n",
    "    print(\"Compressing Image ...\")\n",
    "    green_list, compressionIndex = compressColor(green, compressionDictionary, compressionIndex)\n",
    "    compressedcColors.append(green_list)\n",
    "    print(\"Compressing Image ...\")\n",
    "    blue_list, compressionIndex = compressColor(blue, compressionDictionary, compressionIndex)\n",
    "    compressedcColors.append(blue_list)\n",
    "    print(\"Image Compressed --------- Writing to File\")\n",
    "    filesplit = str(os.path.basename(path)).split('.')\n",
    "    filename = filesplit[0] + 'Compressed.lzw'\n",
    "    with open(filename,'w') as file:\n",
    "        for color in compressedcColors:\n",
    "            for row in color:\n",
    "                file.write(row)\n",
    "                file.write(\"\\n\")"
   ]
  },
  {
   "cell_type": "markdown",
   "metadata": {},
   "source": [
    "Função auxiliar de descompressão da linha da imagem "
   ]
  },
  {
   "cell_type": "code",
   "execution_count": 27,
   "metadata": {},
   "outputs": [],
   "source": [
    "def decompressRow(line, decompressionDictionary, decompressionIndex):\n",
    "    currentRow = line.split(\",\")\n",
    "    currentRow[-1] = currentRow[-1][:-1]\n",
    "    decodedRow = \"\"\n",
    "    word,entry = \"\",\"\"\n",
    "    decodedRow = decodedRow + decompressionDictionary[int(currentRow[0])]\n",
    "    word = decompressionDictionary[int(currentRow[0])]\n",
    "    for i in range(1,len(currentRow)):\n",
    "        new = int(currentRow[i])\n",
    "        if new in decompressionDictionary:\n",
    "            entry = decompressionDictionary[new]\n",
    "            decodedRow += entry\n",
    "            add = word + entry[0]\n",
    "            word = entry\n",
    "        else:\n",
    "            entry = word + word[0]\n",
    "            decodedRow += entry\n",
    "            add = entry\n",
    "            word = entry\n",
    "        decompressionDictionary[decompressionIndex] = add\n",
    "        decompressionIndex+=1\n",
    "    newRow = decodedRow.split(',')\n",
    "    decodedRow = [int(x) for x in newRow]\n",
    "    return decodedRow, decompressionIndex"
   ]
  },
  {
   "cell_type": "markdown",
   "metadata": {},
   "source": [
    "Função principal de descompressão da imagem e salvamento do arquivo reconstruído descomprimido"
   ]
  },
  {
   "cell_type": "code",
   "execution_count": 28,
   "metadata": {},
   "outputs": [],
   "source": [
    "def decompress(path):\n",
    "    print(\"Decompressing File ...\")\n",
    "    decompressionDictionary, decompressionIndex = createDecompressionDict()\n",
    "    image = []\n",
    "    with open(path,\"r\") as file:\n",
    "        for line in file:\n",
    "            decodedRow, decompressionIndex = decompressRow(line, decompressionDictionary, decompressionIndex)\n",
    "            image.append(np.array(decodedRow))\n",
    "    image = np.array(image)\n",
    "    shapeTup = image.shape\n",
    "    image = image.reshape((3,shapeTup[0]//3,shapeTup[1]))\n",
    "    saveImage(path, image)\n",
    "    print(\"Decompression Done.\") "
   ]
  },
  {
   "cell_type": "markdown",
   "metadata": {},
   "source": [
    "Função de cálculo do erro médio quadrático e seus auxiliares.(Obs: não foi implementada a função de cálculo do PSNR já que o RMSE é zero, pois a compressão escolhida foi sem perdas, implicando em PSNR 0)\n",
    "\n",
    "As funções auxiliares extraem cada espectro de cor da imagem para comparação do erro, uma vez que o código salva como string nos espectros para facilitar a usabilidade do dicionário"
   ]
  },
  {
   "cell_type": "code",
   "execution_count": 29,
   "metadata": {},
   "outputs": [],
   "source": [
    "def toFloat(arrayStr):\n",
    "    vector_float = []\n",
    "    for string in arrayStr:\n",
    "        for numm in string.split(','):\n",
    "            vector_float.append(float(numm))\n",
    "    return vector_float.copy()\n",
    "\n",
    "def rmse(predictions, targets):\n",
    "    return np.sqrt(((predictions - targets) ** 2).mean())\n",
    "\n",
    "def rmse_calc(orig_img, compress_img):\n",
    "    orig_r, orig_g, orig_b = processImage(orig_img, orig_img.size[0], orig_img.size[1])\n",
    "    orig = [orig_r, orig_g, orig_b]\n",
    "    compr_r, compr_g, compr_b = processImage(orig_img, orig_img.size[0], orig_img.size[1])\n",
    "    compr = [compr_r, compr_g, compr_b]\n",
    "    x = 0\n",
    "    for i in range(0, 3):\n",
    "        x += rmse(np.array(toFloat(orig[i])), np.array(toFloat(compr[i])))\n",
    "    return x"
   ]
  },
  {
   "cell_type": "markdown",
   "metadata": {},
   "source": [
    "Execução da compressão"
   ]
  },
  {
   "cell_type": "code",
   "execution_count": 30,
   "metadata": {},
   "outputs": [
    {
     "name": "stdout",
     "output_type": "stream",
     "text": [
      "Compressing Image ...\n",
      "Compressing Image ...\n",
      "Compressing Image ...\n",
      "Image Compressed --------- Writing to File\n"
     ]
    }
   ],
   "source": [
    "img_path = \"index.tif\"\n",
    "compress(path=img_path)"
   ]
  },
  {
   "cell_type": "markdown",
   "metadata": {},
   "source": [
    "Execução da descompressão"
   ]
  },
  {
   "cell_type": "code",
   "execution_count": 33,
   "metadata": {},
   "outputs": [
    {
     "name": "stdout",
     "output_type": "stream",
     "text": [
      "Decompressing File ...\n",
      "Saving Decompressed File...\n",
      "Decompression Done.\n"
     ]
    }
   ],
   "source": [
    "decompress(path=f\"{img_path.split('.')[0]}Compressed.lzw\")"
   ]
  },
  {
   "cell_type": "markdown",
   "metadata": {},
   "source": [
    "Cálculo do RMSE"
   ]
  },
  {
   "cell_type": "code",
   "execution_count": 34,
   "metadata": {},
   "outputs": [
    {
     "data": {
      "text/plain": [
       "0.0"
      ]
     },
     "execution_count": 34,
     "metadata": {},
     "output_type": "execute_result"
    }
   ],
   "source": [
    "originalImage = Image.open(img_path)\n",
    "decompressedImage = Image.open(f\"{img_path.split('.')[0]}Decompressed.tif\")\n",
    "rmse_calc(originalImage, decompressedImage)"
   ]
  },
  {
   "cell_type": "markdown",
   "metadata": {},
   "source": [
    "Funções de cálculo da taxa de compressão"
   ]
  },
  {
   "cell_type": "code",
   "execution_count": 35,
   "metadata": {},
   "outputs": [],
   "source": [
    "def compressRatio(original, compressed):\n",
    "  print(f\"Size of compressed {compressed}\")\n",
    "  print(f\"Size of original {original}\")\n",
    "  ratio = (1 - (compressed/ original)) * 100\n",
    "  print (f\"Taxa de compressão: {ratio} %\") "
   ]
  },
  {
   "cell_type": "markdown",
   "metadata": {},
   "source": [
    "Recuperação do tamanho dos arquivos"
   ]
  },
  {
   "cell_type": "code",
   "execution_count": 36,
   "metadata": {},
   "outputs": [],
   "source": [
    "originalSize = os.path.getsize(\"index.tif\")\n",
    "compressedSize = os.path.getsize(\"indexCompressed.lzw\")"
   ]
  },
  {
   "cell_type": "markdown",
   "metadata": {},
   "source": [
    "Cálculo da taxa de compressão"
   ]
  },
  {
   "cell_type": "code",
   "execution_count": 37,
   "metadata": {},
   "outputs": [
    {
     "name": "stdout",
     "output_type": "stream",
     "text": [
      "Size of compressed 5900981\n",
      "Size of original 16400548\n",
      "Taxa de compressão: 64.01961080812666 %\n"
     ]
    }
   ],
   "source": [
    "compressRatio(originalSize, compressedSize)"
   ]
  },
  {
   "cell_type": "markdown",
   "metadata": {},
   "source": [
    "### Conclusão\n",
    "\n",
    "O algoritmo de compressão LZW apresentou valores interessantes de compressão para os arquivos testados. Entretanto, em imagens com sequências de pixels muita variadas, perde-se parte da eficiência, decorrente do número crescente de entradas no dicionário.\n",
    "\n",
    "Apesar disso, o algoritmo LZW é bastante usado na compressão de imagens TIFF, por sua simplicidade de implementação e sua compressão sem perdas."
   ]
  },
  {
   "cell_type": "markdown",
   "metadata": {},
   "source": []
  }
 ],
 "metadata": {
  "kernelspec": {
   "display_name": "Python 3.10.4 64-bit",
   "language": "python",
   "name": "python3"
  },
  "language_info": {
   "codemirror_mode": {
    "name": "ipython",
    "version": 3
   },
   "file_extension": ".py",
   "mimetype": "text/x-python",
   "name": "python",
   "nbconvert_exporter": "python",
   "pygments_lexer": "ipython3",
   "version": "3.10.4"
  },
  "orig_nbformat": 4,
  "vscode": {
   "interpreter": {
    "hash": "a7fb2b1a8c6a62af0797582ceae2412237b2a7b266ba21c3d6f75def89568111"
   }
  }
 },
 "nbformat": 4,
 "nbformat_minor": 2
}
